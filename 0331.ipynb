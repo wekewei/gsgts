{
 "cells": [
  {
   "cell_type": "code",
   "execution_count": 1,
   "metadata": {},
   "outputs": [],
   "source": [
    "%matplotlib inline\n",
    "\n",
    "import numpy as np\n",
    "import matplotlib.pyplot as plt"
   ]
  },
  {
   "cell_type": "code",
   "execution_count": 2,
   "metadata": {},
   "outputs": [],
   "source": [
    "import tensorflow as tf"
   ]
  },
  {
   "cell_type": "markdown",
   "metadata": {},
   "source": [
    "## 1. 讀入 Fashion MNSIT 數據集"
   ]
  },
  {
   "cell_type": "code",
   "execution_count": 3,
   "metadata": {},
   "outputs": [],
   "source": [
    "from tensorflow.keras.datasets import fashion_mnist"
   ]
  },
  {
   "cell_type": "code",
   "execution_count": 4,
   "metadata": {},
   "outputs": [],
   "source": [
    "(x_train, y_train), (x_test, y_test) = fashion_mnist.load_data()"
   ]
  },
  {
   "cell_type": "markdown",
   "metadata": {},
   "source": [
    "## 2. 欣賞數據集內容"
   ]
  },
  {
   "cell_type": "code",
   "execution_count": 5,
   "metadata": {},
   "outputs": [],
   "source": [
    "class_names = ['T-shirt/top', 'Trouser', 'Pullover', 'Dress', 'Coat',\n",
    "               'Sandal', 'Shirt', 'Sneaker', 'Bag', 'Ankle boot']"
   ]
  },
  {
   "cell_type": "code",
   "execution_count": 6,
   "metadata": {},
   "outputs": [
    {
     "data": {
      "text/plain": [
       "60000"
      ]
     },
     "execution_count": 6,
     "metadata": {},
     "output_type": "execute_result"
    }
   ],
   "source": [
    "len(x_train)"
   ]
  },
  {
   "cell_type": "code",
   "execution_count": 7,
   "metadata": {},
   "outputs": [
    {
     "data": {
      "text/plain": [
       "10000"
      ]
     },
     "execution_count": 7,
     "metadata": {},
     "output_type": "execute_result"
    }
   ],
   "source": [
    "len(x_test)"
   ]
  },
  {
   "cell_type": "code",
   "execution_count": 8,
   "metadata": {},
   "outputs": [
    {
     "data": {
      "text/plain": [
       "<matplotlib.image.AxesImage at 0x201fe5dcb48>"
      ]
     },
     "execution_count": 8,
     "metadata": {},
     "output_type": "execute_result"
    },
    {
     "data": {
      "image/png": "[encoded data removed]",
      "text/plain": [
       "<Figure size 432x288 with 1 Axes>"
      ]
     },
     "metadata": {
      "needs_background": "light"
     },
     "output_type": "display_data"
    }
   ],
   "source": [
    "n=666\n",
    "plt.imshow(x_train[n], cmap='Greys')"
   ]
  },
  {
   "cell_type": "code",
   "execution_count": 9,
   "metadata": {},
   "outputs": [
    {
     "data": {
      "text/plain": [
       "'Sneaker'"
      ]
     },
     "execution_count": 9,
     "metadata": {},
     "output_type": "execute_result"
    }
   ],
   "source": [
    "class_names[y_train[n]]"
   ]
  },
  {
   "cell_type": "markdown",
   "metadata": {},
   "source": [
    "## 3.資料整理"
   ]
  },
  {
   "cell_type": "code",
   "execution_count": 10,
   "metadata": {},
   "outputs": [
    {
     "data": {
      "text/plain": [
       "(60000, 28, 28)"
      ]
     },
     "execution_count": 10,
     "metadata": {},
     "output_type": "execute_result"
    }
   ],
   "source": [
    "x_train.shape"
   ]
  },
  {
   "cell_type": "code",
   "execution_count": 11,
   "metadata": {},
   "outputs": [],
   "source": [
    "x_train = x_train.reshape(60000, 784)/255\n",
    "x_test = x_test.reshape(10000, 784)/255"
   ]
  },
  {
   "cell_type": "code",
   "execution_count": 12,
   "metadata": {},
   "outputs": [],
   "source": [
    "from tensorflow.keras.utils import to_categorical"
   ]
  },
  {
   "cell_type": "code",
   "execution_count": 13,
   "metadata": {},
   "outputs": [],
   "source": [
    "y_train = to_categorical(y_train, 10)\n",
    "y_test = to_categorical(y_test, 10)"
   ]
  },
  {
   "cell_type": "markdown",
   "metadata": {},
   "source": [
    "## 4. 打造神經網路"
   ]
  },
  {
   "cell_type": "code",
   "execution_count": 14,
   "metadata": {},
   "outputs": [],
   "source": [
    "from tensorflow.keras.models import Sequential\n",
    "from tensorflow.keras.layers import Dense\n",
    "from tensorflow.keras.optimizers import SGD"
   ]
  },
  {
   "cell_type": "code",
   "execution_count": 15,
   "metadata": {},
   "outputs": [],
   "source": [
    "model = Sequential()"
   ]
  },
  {
   "cell_type": "code",
   "execution_count": 16,
   "metadata": {},
   "outputs": [],
   "source": [
    "model.add(Dense(666, input_dim=784, activation='relu'))"
   ]
  },
  {
   "cell_type": "code",
   "execution_count": 17,
   "metadata": {},
   "outputs": [],
   "source": [
    "model.add(Dense(200, activation='relu'))"
   ]
  },
  {
   "cell_type": "code",
   "execution_count": 18,
   "metadata": {},
   "outputs": [],
   "source": [
    "model.add(Dense(200, activation='relu'))"
   ]
  },
  {
   "cell_type": "code",
   "execution_count": 19,
   "metadata": {},
   "outputs": [],
   "source": [
    "model.add(Dense(10, activation='softmax'))"
   ]
  },
  {
   "cell_type": "markdown",
   "metadata": {},
   "source": [
    "## 5.組裝我們的神經網路"
   ]
  },
  {
   "cell_type": "code",
   "execution_count": 20,
   "metadata": {},
   "outputs": [],
   "source": [
    "model.compile(loss='mse', optimizer=SGD(lr=0.001), metrics=['accuracy'])"
   ]
  },
  {
   "cell_type": "code",
   "execution_count": 21,
   "metadata": {},
   "outputs": [
    {
     "name": "stdout",
     "output_type": "stream",
     "text": [
      "Model: \"sequential\"\n",
      "_________________________________________________________________\n",
      "Layer (type)                 Output Shape              Param #   \n",
      "=================================================================\n",
      "dense (Dense)                (None, 666)               522810    \n",
      "_________________________________________________________________\n",
      "dense_1 (Dense)              (None, 200)               133400    \n",
      "_________________________________________________________________\n",
      "dense_2 (Dense)              (None, 200)               40200     \n",
      "_________________________________________________________________\n",
      "dense_3 (Dense)              (None, 10)                2010      \n",
      "=================================================================\n",
      "Total params: 698,420\n",
      "Trainable params: 698,420\n",
      "Non-trainable params: 0\n",
      "_________________________________________________________________\n"
     ]
    }
   ],
   "source": [
    "model.summary()"
   ]
  },
  {
   "cell_type": "markdown",
   "metadata": {},
   "source": [
    "## 6.訓練"
   ]
  },
  {
   "cell_type": "code",
   "execution_count": 22,
   "metadata": {},
   "outputs": [
    {
     "name": "stdout",
     "output_type": "stream",
     "text": [
      "Train on 60000 samples\n",
      "Epoch 1/20\n",
      "60000/60000 [==============================] - 6s 105us/sample - loss: 0.0920 - accuracy: 0.1339\n",
      "Epoch 2/20\n",
      "60000/60000 [==============================] - 6s 94us/sample - loss: 0.0915 - accuracy: 0.1345\n",
      "Epoch 3/20\n",
      "60000/60000 [==============================] - 5s 91us/sample - loss: 0.0911 - accuracy: 0.1359\n",
      "Epoch 4/20\n",
      "60000/60000 [==============================] - 6s 93us/sample - loss: 0.0908 - accuracy: 0.1371\n",
      "Epoch 5/20\n",
      "60000/60000 [==============================] - 6s 93us/sample - loss: 0.0905 - accuracy: 0.1387\n",
      "Epoch 6/20\n",
      "60000/60000 [==============================] - 6s 93us/sample - loss: 0.0902 - accuracy: 0.1415\n",
      "Epoch 7/20\n",
      "60000/60000 [==============================] - 6s 93us/sample - loss: 0.0899 - accuracy: 0.1470\n",
      "Epoch 8/20\n",
      "60000/60000 [==============================] - 6s 94us/sample - loss: 0.0897 - accuracy: 0.1559\n",
      "Epoch 9/20\n",
      "60000/60000 [==============================] - 6s 93us/sample - loss: 0.0894 - accuracy: 0.1689\n",
      "Epoch 10/20\n",
      "60000/60000 [==============================] - 6s 93us/sample - loss: 0.0892 - accuracy: 0.1838\n",
      "Epoch 11/20\n",
      "60000/60000 [==============================] - 6s 92us/sample - loss: 0.0890 - accuracy: 0.1994\n",
      "Epoch 12/20\n",
      "60000/60000 [==============================] - 6s 92us/sample - loss: 0.0888 - accuracy: 0.2143s - loss: 0.0888 - accuracy: 0.21\n",
      "Epoch 13/20\n",
      "60000/60000 [==============================] - 6s 93us/sample - loss: 0.0886 - accuracy: 0.2286\n",
      "Epoch 14/20\n",
      "60000/60000 [==============================] - 6s 92us/sample - loss: 0.0884 - accuracy: 0.2450\n",
      "Epoch 15/20\n",
      "60000/60000 [==============================] - 5s 91us/sample - loss: 0.0882 - accuracy: 0.2607\n",
      "Epoch 16/20\n",
      "60000/60000 [==============================] - 5s 91us/sample - loss: 0.0880 - accuracy: 0.2759\n",
      "Epoch 17/20\n",
      "60000/60000 [==============================] - 5s 90us/sample - loss: 0.0878 - accuracy: 0.2919\n",
      "Epoch 18/20\n",
      "60000/60000 [==============================] - 5s 91us/sample - loss: 0.0876 - accuracy: 0.3067\n",
      "Epoch 19/20\n",
      "60000/60000 [==============================] - 5s 90us/sample - loss: 0.0874 - accuracy: 0.3206\n",
      "Epoch 20/20\n",
      "60000/60000 [==============================] - 5s 91us/sample - loss: 0.0872 - accuracy: 0.3328\n"
     ]
    },
    {
     "data": {
      "text/plain": [
       "<tensorflow.python.keras.callbacks.History at 0x20180bee088>"
      ]
     },
     "execution_count": 22,
     "metadata": {},
     "output_type": "execute_result"
    }
   ],
   "source": [
    "model.fit(x_train, y_train, batch_size=200, epochs=20)"
   ]
  },
  {
   "cell_type": "markdown",
   "metadata": {},
   "source": [
    "### 準確率不高，但有在上升，繼續訓練"
   ]
  },
  {
   "cell_type": "code",
   "execution_count": 23,
   "metadata": {},
   "outputs": [
    {
     "name": "stdout",
     "output_type": "stream",
     "text": [
      "Train on 60000 samples\n",
      "Epoch 1/20\n",
      "60000/60000 [==============================] - 6s 93us/sample - loss: 0.0870 - accuracy: 0.3432\n",
      "Epoch 2/20\n",
      "60000/60000 [==============================] - 6s 94us/sample - loss: 0.0868 - accuracy: 0.3512\n",
      "Epoch 3/20\n",
      "60000/60000 [==============================] - 5s 90us/sample - loss: 0.0866 - accuracy: 0.3594\n",
      "Epoch 4/20\n",
      "60000/60000 [==============================] - 6s 92us/sample - loss: 0.0865 - accuracy: 0.3673\n",
      "Epoch 5/20\n",
      "60000/60000 [==============================] - 5s 82us/sample - loss: 0.0863 - accuracy: 0.3751\n",
      "Epoch 6/20\n",
      "60000/60000 [==============================] - 5s 88us/sample - loss: 0.0861 - accuracy: 0.3821\n",
      "Epoch 7/20\n",
      "60000/60000 [==============================] - 5s 85us/sample - loss: 0.0859 - accuracy: 0.3885\n",
      "Epoch 8/20\n",
      "60000/60000 [==============================] - 5s 90us/sample - loss: 0.0857 - accuracy: 0.3957\n",
      "Epoch 9/20\n",
      "60000/60000 [==============================] - 5s 90us/sample - loss: 0.0855 - accuracy: 0.4025\n",
      "Epoch 10/20\n",
      "60000/60000 [==============================] - 5s 91us/sample - loss: 0.0853 - accuracy: 0.4088\n",
      "Epoch 11/20\n",
      "60000/60000 [==============================] - ETA: 0s - loss: 0.0851 - accuracy: 0.41 - 5s 90us/sample - loss: 0.0851 - accuracy: 0.4143\n",
      "Epoch 12/20\n",
      "60000/60000 [==============================] - 6s 92us/sample - loss: 0.0848 - accuracy: 0.4193\n",
      "Epoch 13/20\n",
      "60000/60000 [==============================] - 6s 96us/sample - loss: 0.0846 - accuracy: 0.4234\n",
      "Epoch 14/20\n",
      "60000/60000 [==============================] - 6s 98us/sample - loss: 0.0844 - accuracy: 0.4273\n",
      "Epoch 15/20\n",
      "60000/60000 [==============================] - 6s 97us/sample - loss: 0.0842 - accuracy: 0.4302\n",
      "Epoch 16/20\n",
      "60000/60000 [==============================] - 6s 98us/sample - loss: 0.0840 - accuracy: 0.4329\n",
      "Epoch 17/20\n",
      "60000/60000 [==============================] - 6s 92us/sample - loss: 0.0837 - accuracy: 0.4347\n",
      "Epoch 18/20\n",
      "60000/60000 [==============================] - 5s 89us/sample - loss: 0.0835 - accuracy: 0.4364\n",
      "Epoch 19/20\n",
      "60000/60000 [==============================] - 5s 89us/sample - loss: 0.0833 - accuracy: 0.4379\n",
      "Epoch 20/20\n",
      "60000/60000 [==============================] - 5s 90us/sample - loss: 0.0830 - accuracy: 0.4387\n"
     ]
    },
    {
     "data": {
      "text/plain": [
       "<tensorflow.python.keras.callbacks.History at 0x20182c97248>"
      ]
     },
     "execution_count": 23,
     "metadata": {},
     "output_type": "execute_result"
    }
   ],
   "source": [
    "model.fit(x_train, y_train, batch_size=200, epochs=20)"
   ]
  },
  {
   "cell_type": "code",
   "execution_count": 24,
   "metadata": {},
   "outputs": [
    {
     "name": "stdout",
     "output_type": "stream",
     "text": [
      "Train on 60000 samples\n",
      "Epoch 1/20\n",
      "60000/60000 [==============================] - 6s 93us/sample - loss: 0.0828 - accuracy: 0.4398\n",
      "Epoch 2/20\n",
      "60000/60000 [==============================] - 6s 94us/sample - loss: 0.0825 - accuracy: 0.4409\n",
      "Epoch 3/20\n",
      "60000/60000 [==============================] - 6s 93us/sample - loss: 0.0823 - accuracy: 0.4416\n",
      "Epoch 4/20\n",
      "60000/60000 [==============================] - 6s 93us/sample - loss: 0.0820 - accuracy: 0.4420\n",
      "Epoch 5/20\n",
      "60000/60000 [==============================] - 6s 92us/sample - loss: 0.0818 - accuracy: 0.4434s - los - ETA: 1s - loss: 0.0818 - accura - E\n",
      "Epoch 6/20\n",
      "60000/60000 [==============================] - 6s 92us/sample - loss: 0.0815 - accuracy: 0.4439\n",
      "Epoch 7/20\n",
      "60000/60000 [==============================] - 5s 85us/sample - loss: 0.0812 - accuracy: 0.4446\n",
      "Epoch 8/20\n",
      "60000/60000 [==============================] - 5s 91us/sample - loss: 0.0810 - accuracy: 0.4459\n",
      "Epoch 9/20\n",
      "60000/60000 [==============================] - 5s 90us/sample - loss: 0.0807 - accuracy: 0.4472\n",
      "Epoch 10/20\n",
      "60000/60000 [==============================] - 6s 94us/sample - loss: 0.0804 - accuracy: 0.4480\n",
      "Epoch 11/20\n",
      "60000/60000 [==============================] - 6s 93us/sample - loss: 0.0801 - accuracy: 0.4491\n",
      "Epoch 12/20\n",
      "60000/60000 [==============================] - 5s 91us/sample - loss: 0.0798 - accuracy: 0.4501\n",
      "Epoch 13/20\n",
      "60000/60000 [==============================] - 5s 91us/sample - loss: 0.0795 - accuracy: 0.4517\n",
      "Epoch 14/20\n",
      "60000/60000 [==============================] - 5s 91us/sample - loss: 0.0792 - accuracy: 0.4537\n",
      "Epoch 15/20\n",
      "60000/60000 [==============================] - 5s 89us/sample - loss: 0.0789 - accuracy: 0.4562\n",
      "Epoch 16/20\n",
      "60000/60000 [==============================] - 6s 93us/sample - loss: 0.0786 - accuracy: 0.4586\n",
      "Epoch 17/20\n",
      "60000/60000 [==============================] - 5s 90us/sample - loss: 0.0783 - accuracy: 0.4613\n",
      "Epoch 18/20\n",
      "60000/60000 [==============================] - 5s 91us/sample - loss: 0.0780 - accuracy: 0.4649\n",
      "Epoch 19/20\n",
      "60000/60000 [==============================] - 5s 90us/sample - loss: 0.0777 - accuracy: 0.4681\n",
      "Epoch 20/20\n",
      "60000/60000 [==============================] - 5s 91us/sample - loss: 0.0773 - accuracy: 0.4722\n"
     ]
    },
    {
     "data": {
      "text/plain": [
       "<tensorflow.python.keras.callbacks.History at 0x201a5813788>"
      ]
     },
     "execution_count": 24,
     "metadata": {},
     "output_type": "execute_result"
    }
   ],
   "source": [
    "model.fit(x_train, y_train, batch_size=200, epochs=20)"
   ]
  },
  {
   "cell_type": "code",
   "execution_count": 25,
   "metadata": {},
   "outputs": [
    {
     "name": "stdout",
     "output_type": "stream",
     "text": [
      "Train on 60000 samples\n",
      "Epoch 1/20\n",
      "60000/60000 [==============================] - 6s 94us/sample - loss: 0.0770 - accuracy: 0.4766\n",
      "Epoch 2/20\n",
      "60000/60000 [==============================] - 5s 91us/sample - loss: 0.0767 - accuracy: 0.4812\n",
      "Epoch 3/20\n",
      "60000/60000 [==============================] - 5s 91us/sample - loss: 0.0764 - accuracy: 0.4850s - loss: 0.0764 - accuracy: 0.\n",
      "Epoch 4/20\n",
      "60000/60000 [==============================] - 6s 97us/sample - loss: 0.0760 - accuracy: 0.4898\n",
      "Epoch 5/20\n",
      "60000/60000 [==============================] - 6s 97us/sample - loss: 0.0757 - accuracy: 0.4941\n",
      "Epoch 6/20\n",
      "60000/60000 [==============================] - 6s 95us/sample - loss: 0.0754 - accuracy: 0.4985\n",
      "Epoch 7/20\n",
      "60000/60000 [==============================] - 5s 90us/sample - loss: 0.0750 - accuracy: 0.5033s - loss: 0.0750 - accuracy: \n",
      "Epoch 8/20\n",
      "60000/60000 [==============================] - 6s 98us/sample - loss: 0.0747 - accuracy: 0.5085\n",
      "Epoch 9/20\n",
      "60000/60000 [==============================] - 6s 96us/sample - loss: 0.0744 - accuracy: 0.5133\n",
      "Epoch 10/20\n",
      "60000/60000 [==============================] - 5s 89us/sample - loss: 0.0740 - accuracy: 0.5182s\n",
      "Epoch 11/20\n",
      "60000/60000 [==============================] - 5s 89us/sample - loss: 0.0737 - accuracy: 0.5228\n",
      "Epoch 12/20\n",
      "60000/60000 [==============================] - 5s 92us/sample - loss: 0.0733 - accuracy: 0.5274\n",
      "Epoch 13/20\n",
      "60000/60000 [==============================] - 6s 96us/sample - loss: 0.0730 - accuracy: 0.5326\n",
      "Epoch 14/20\n",
      "60000/60000 [==============================] - 6s 95us/sample - loss: 0.0726 - accuracy: 0.5370\n",
      "Epoch 15/20\n",
      "60000/60000 [==============================] - 6s 97us/sample - loss: 0.0723 - accuracy: 0.5412s -\n",
      "Epoch 16/20\n",
      "60000/60000 [==============================] - 6s 94us/sample - loss: 0.0719 - accuracy: 0.5454\n",
      "Epoch 17/20\n",
      "60000/60000 [==============================] - 5s 88us/sample - loss: 0.0716 - accuracy: 0.5498\n",
      "Epoch 18/20\n",
      "60000/60000 [==============================] - 5s 89us/sample - loss: 0.0712 - accuracy: 0.5538\n",
      "Epoch 19/20\n",
      "60000/60000 [==============================] - 5s 91us/sample - loss: 0.0708 - accuracy: 0.5576s -\n",
      "Epoch 20/20\n",
      "60000/60000 [==============================] - 5s 90us/sample - loss: 0.0705 - accuracy: 0.5613s - loss: 0.0706 - accuracy: 0.55 - ETA: 0s - loss: 0.070\n"
     ]
    },
    {
     "data": {
      "text/plain": [
       "<tensorflow.python.keras.callbacks.History at 0x201a58609c8>"
      ]
     },
     "execution_count": 25,
     "metadata": {},
     "output_type": "execute_result"
    }
   ],
   "source": [
    "model.fit(x_train, y_train, batch_size=200, epochs=20)"
   ]
  },
  {
   "cell_type": "markdown",
   "metadata": {},
   "source": [
    "## 感覺要訓練太久，還是改一下learning rate 試試看好了"
   ]
  },
  {
   "cell_type": "code",
   "execution_count": 26,
   "metadata": {},
   "outputs": [],
   "source": [
    "model.compile(loss='mse', optimizer=SGD(lr=0.01), metrics=['accuracy'])"
   ]
  },
  {
   "cell_type": "code",
   "execution_count": 27,
   "metadata": {},
   "outputs": [
    {
     "name": "stdout",
     "output_type": "stream",
     "text": [
      "Train on 60000 samples\n",
      "Epoch 1/20\n",
      "60000/60000 [==============================] - 6s 105us/sample - loss: 0.0684 - accuracy: 0.5792\n",
      "Epoch 2/20\n",
      "60000/60000 [==============================] - 6s 92us/sample - loss: 0.0647 - accuracy: 0.5992\n",
      "Epoch 3/20\n",
      "60000/60000 [==============================] - 6s 92us/sample - loss: 0.0611 - accuracy: 0.6090\n",
      "Epoch 4/20\n",
      "60000/60000 [==============================] - 6s 92us/sample - loss: 0.0578 - accuracy: 0.6219\n",
      "Epoch 5/20\n",
      "60000/60000 [==============================] - 5s 90us/sample - loss: 0.0549 - accuracy: 0.6421\n",
      "Epoch 6/20\n",
      "60000/60000 [==============================] - 6s 95us/sample - loss: 0.0525 - accuracy: 0.6548\n",
      "Epoch 7/20\n",
      "60000/60000 [==============================] - 5s 91us/sample - loss: 0.0505 - accuracy: 0.6626\n",
      "Epoch 8/20\n",
      "60000/60000 [==============================] - 5s 89us/sample - loss: 0.0489 - accuracy: 0.6671\n",
      "Epoch 9/20\n",
      "60000/60000 [==============================] - 6s 96us/sample - loss: 0.0474 - accuracy: 0.6714\n",
      "Epoch 10/20\n",
      "60000/60000 [==============================] - 5s 88us/sample - loss: 0.0461 - accuracy: 0.6761\n",
      "Epoch 11/20\n",
      "60000/60000 [==============================] - 5s 82us/sample - loss: 0.0450 - accuracy: 0.6833\n",
      "Epoch 12/20\n",
      "60000/60000 [==============================] - 5s 81us/sample - loss: 0.0439 - accuracy: 0.6915\n",
      "Epoch 13/20\n",
      "60000/60000 [==============================] - 5s 81us/sample - loss: 0.0430 - accuracy: 0.6999\n",
      "Epoch 14/20\n",
      "60000/60000 [==============================] - 5s 83us/sample - loss: 0.0421 - accuracy: 0.7099\n",
      "Epoch 15/20\n",
      "60000/60000 [==============================] - 5s 82us/sample - loss: 0.0413 - accuracy: 0.7191\n",
      "Epoch 16/20\n",
      "60000/60000 [==============================] - 5s 81us/sample - loss: 0.0406 - accuracy: 0.7264s - loss: 0.0405 - accuracy: 0. - E\n",
      "Epoch 17/20\n",
      "60000/60000 [==============================] - 5s 82us/sample - loss: 0.0399 - accuracy: 0.7345s - loss: 0.0\n",
      "Epoch 18/20\n",
      "60000/60000 [==============================] - 5s 84us/sample - loss: 0.0392 - accuracy: 0.7412\n",
      "Epoch 19/20\n",
      "60000/60000 [==============================] - 5s 83us/sample - loss: 0.0386 - accuracy: 0.7467\n",
      "Epoch 20/20\n",
      "60000/60000 [==============================] - 5s 84us/sample - loss: 0.0380 - accuracy: 0.7531\n"
     ]
    },
    {
     "data": {
      "text/plain": [
       "<tensorflow.python.keras.callbacks.History at 0x201a5866848>"
      ]
     },
     "execution_count": 27,
     "metadata": {},
     "output_type": "execute_result"
    }
   ],
   "source": [
    "model.fit(x_train, y_train, batch_size=200, epochs=20)"
   ]
  },
  {
   "cell_type": "code",
   "execution_count": 28,
   "metadata": {},
   "outputs": [
    {
     "name": "stdout",
     "output_type": "stream",
     "text": [
      "Train on 60000 samples\n",
      "Epoch 1/20\n",
      "60000/60000 [==============================] - 5s 87us/sample - loss: 0.0374 - accuracy: 0.7586s - loss: 0.0375 - accuracy\n",
      "Epoch 2/20\n",
      "60000/60000 [==============================] - 5s 91us/sample - loss: 0.0369 - accuracy: 0.7631s - loss: 0.0\n",
      "Epoch 3/20\n",
      "60000/60000 [==============================] - 5s 91us/sample - loss: 0.0363 - accuracy: 0.7675\n",
      "Epoch 4/20\n",
      "60000/60000 [==============================] - 5s 85us/sample - loss: 0.0358 - accuracy: 0.7711\n",
      "Epoch 5/20\n",
      "60000/60000 [==============================] - 5s 90us/sample - loss: 0.0353 - accuracy: 0.7746\n",
      "Epoch 6/20\n",
      "60000/60000 [==============================] - 5s 88us/sample - loss: 0.0349 - accuracy: 0.7779\n",
      "Epoch 7/20\n",
      "60000/60000 [==============================] - 5s 92us/sample - loss: 0.0344 - accuracy: 0.7807\n",
      "Epoch 8/20\n",
      "60000/60000 [==============================] - 5s 91us/sample - loss: 0.0340 - accuracy: 0.7838\n",
      "Epoch 9/20\n",
      "60000/60000 [==============================] - 6s 94us/sample - loss: 0.0336 - accuracy: 0.7868\n",
      "Epoch 10/20\n",
      "60000/60000 [==============================] - 5s 90us/sample - loss: 0.0332 - accuracy: 0.7885\n",
      "Epoch 11/20\n",
      "60000/60000 [==============================] - 5s 87us/sample - loss: 0.0328 - accuracy: 0.7913\n",
      "Epoch 12/20\n",
      "60000/60000 [==============================] - 5s 87us/sample - loss: 0.0325 - accuracy: 0.7937\n",
      "Epoch 13/20\n",
      "60000/60000 [==============================] - 5s 90us/sample - loss: 0.0321 - accuracy: 0.7955s - loss: 0.0\n",
      "Epoch 14/20\n",
      "60000/60000 [==============================] - 5s 89us/sample - loss: 0.0318 - accuracy: 0.7982\n",
      "Epoch 15/20\n",
      "60000/60000 [==============================] - 5s 88us/sample - loss: 0.0315 - accuracy: 0.7996s - loss: 0.0315 - accuracy: 0.79\n",
      "Epoch 16/20\n",
      "60000/60000 [==============================] - 5s 91us/sample - loss: 0.0312 - accuracy: 0.8012\n",
      "Epoch 17/20\n",
      "60000/60000 [==============================] - 5s 88us/sample - loss: 0.0309 - accuracy: 0.8033\n",
      "Epoch 18/20\n",
      "60000/60000 [==============================] - 6s 95us/sample - loss: 0.0306 - accuracy: 0.8055\n",
      "Epoch 19/20\n",
      "60000/60000 [==============================] - 5s 86us/sample - loss: 0.0303 - accuracy: 0.8066\n",
      "Epoch 20/20\n",
      "60000/60000 [==============================] - 5s 89us/sample - loss: 0.0301 - accuracy: 0.8082\n"
     ]
    },
    {
     "data": {
      "text/plain": [
       "<tensorflow.python.keras.callbacks.History at 0x20180d26a08>"
      ]
     },
     "execution_count": 28,
     "metadata": {},
     "output_type": "execute_result"
    }
   ],
   "source": [
    "model.fit(x_train, y_train, batch_size=200, epochs=20)"
   ]
  },
  {
   "cell_type": "code",
   "execution_count": 29,
   "metadata": {},
   "outputs": [
    {
     "name": "stdout",
     "output_type": "stream",
     "text": [
      "Train on 60000 samples\n",
      "Epoch 1/20\n",
      "60000/60000 [==============================] - 7s 124us/sample - loss: 0.0297 - accuracy: 0.8094\n",
      "Epoch 2/20\n",
      "60000/60000 [==============================] - 7s 116us/sample - loss: 0.0293 - accuracy: 0.8123\n",
      "Epoch 3/20\n",
      "60000/60000 [==============================] - 7s 116us/sample - loss: 0.0289 - accuracy: 0.8152\n",
      "Epoch 4/20\n",
      "60000/60000 [==============================] - 7s 117us/sample - loss: 0.0285 - accuracy: 0.8169 - los\n",
      "Epoch 5/20\n",
      "60000/60000 [==============================] - 7s 117us/sample - loss: 0.0281 - accuracy: 0.8195 - loss: 0.028\n",
      "Epoch 6/20\n",
      "60000/60000 [==============================] - 7s 117us/sample - loss: 0.0278 - accuracy: 0.8212\n",
      "Epoch 7/20\n",
      "60000/60000 [==============================] - 7s 116us/sample - loss: 0.0275 - accuracy: 0.8227\n",
      "Epoch 8/20\n",
      "60000/60000 [==============================] - 7s 116us/sample - loss: 0.0272 - accuracy: 0.8242\n",
      "Epoch 9/20\n",
      "60000/60000 [==============================] - 7s 117us/sample - loss: 0.0269 - accuracy: 0.8255\n",
      "Epoch 10/20\n",
      "60000/60000 [==============================] - 7s 116us/sample - loss: 0.0267 - accuracy: 0.8269 - loss: 0.0266 - ac\n",
      "Epoch 11/20\n",
      "60000/60000 [==============================] - 7s 114us/sample - loss: 0.0264 - accuracy: 0.8278 - loss: 0.0266 - accuracy:  - ETA: 0s - loss: 0 - ETA: 0s - loss: 0.0264 - accura\n",
      "Epoch 12/20\n",
      "60000/60000 [==============================] - 7s 113us/sample - loss: 0.0262 - accuracy: 0.8291\n",
      "Epoch 13/20\n",
      "60000/60000 [==============================] - 7s 122us/sample - loss: 0.0260 - accuracy: 0.8310\n",
      "Epoch 14/20\n",
      "60000/60000 [==============================] - 7s 113us/sample - loss: 0.0258 - accuracy: 0.8319\n",
      "Epoch 15/20\n",
      "60000/60000 [==============================] - 7s 113us/sample - loss: 0.0256 - accuracy: 0.8328\n",
      "Epoch 16/20\n",
      "60000/60000 [==============================] - 7s 112us/sample - loss: 0.0254 - accuracy: 0.8339\n",
      "Epoch 17/20\n",
      "60000/60000 [==============================] - 7s 113us/sample - loss: 0.0252 - accuracy: 0.8346\n",
      "Epoch 18/20\n",
      "60000/60000 [==============================] - 7s 113us/sample - loss: 0.0250 - accuracy: 0.8361\n",
      "Epoch 19/20\n",
      "60000/60000 [==============================] - 7s 113us/sample - loss: 0.0249 - accuracy: 0.8362\n",
      "Epoch 20/20\n",
      "60000/60000 [==============================] - 7s 115us/sample - loss: 0.0247 - accuracy: 0.8374\n"
     ]
    },
    {
     "data": {
      "text/plain": [
       "<tensorflow.python.keras.callbacks.History at 0x20180ce7b48>"
      ]
     },
     "execution_count": 29,
     "metadata": {},
     "output_type": "execute_result"
    }
   ],
   "source": [
    "model.fit(x_train, y_train, batch_size=100, epochs=20)"
   ]
  },
  {
   "cell_type": "code",
   "execution_count": 30,
   "metadata": {},
   "outputs": [
    {
     "name": "stdout",
     "output_type": "stream",
     "text": [
      "Train on 60000 samples\n",
      "Epoch 1/20\n",
      "60000/60000 [==============================] - 5s 90us/sample - loss: 0.0246 - accuracy: 0.8381\n",
      "Epoch 2/20\n",
      "60000/60000 [==============================] - 5s 91us/sample - loss: 0.0245 - accuracy: 0.8382\n",
      "Epoch 3/20\n",
      "60000/60000 [==============================] - 5s 91us/sample - loss: 0.0244 - accuracy: 0.8387\n",
      "Epoch 4/20\n",
      "60000/60000 [==============================] - 5s 91us/sample - loss: 0.0244 - accuracy: 0.8392\n",
      "Epoch 5/20\n",
      "60000/60000 [==============================] - 5s 91us/sample - loss: 0.0243 - accuracy: 0.8390\n",
      "Epoch 6/20\n",
      "60000/60000 [==============================] - 6s 92us/sample - loss: 0.0242 - accuracy: 0.8398\n",
      "Epoch 7/20\n",
      "60000/60000 [==============================] - 5s 91us/sample - loss: 0.0241 - accuracy: 0.8401\n",
      "Epoch 8/20\n",
      "60000/60000 [==============================] - 5s 90us/sample - loss: 0.0241 - accuracy: 0.8400\n",
      "Epoch 9/20\n",
      "60000/60000 [==============================] - 5s 91us/sample - loss: 0.0240 - accuracy: 0.8405\n",
      "Epoch 10/20\n",
      "60000/60000 [==============================] - 5s 91us/sample - loss: 0.0239 - accuracy: 0.8412\n",
      "Epoch 11/20\n",
      "60000/60000 [==============================] - 5s 91us/sample - loss: 0.0239 - accuracy: 0.8411\n",
      "Epoch 12/20\n",
      "60000/60000 [==============================] - 5s 90us/sample - loss: 0.0238 - accuracy: 0.8418\n",
      "Epoch 13/20\n",
      "60000/60000 [==============================] - 5s 89us/sample - loss: 0.0238 - accuracy: 0.8422\n",
      "Epoch 14/20\n",
      "60000/60000 [==============================] - 5s 90us/sample - loss: 0.0237 - accuracy: 0.8425\n",
      "Epoch 15/20\n",
      "60000/60000 [==============================] - 5s 90us/sample - loss: 0.0236 - accuracy: 0.8424\n",
      "Epoch 16/20\n",
      "60000/60000 [==============================] - 5s 89us/sample - loss: 0.0236 - accuracy: 0.8429\n",
      "Epoch 17/20\n",
      "60000/60000 [==============================] - 5s 90us/sample - loss: 0.0235 - accuracy: 0.8433\n",
      "Epoch 18/20\n",
      "60000/60000 [==============================] - 6s 98us/sample - loss: 0.0235 - accuracy: 0.8441\n",
      "Epoch 19/20\n",
      "60000/60000 [==============================] - 6s 92us/sample - loss: 0.0234 - accuracy: 0.8447\n",
      "Epoch 20/20\n",
      "60000/60000 [==============================] - 6s 93us/sample - loss: 0.0234 - accuracy: 0.8455\n"
     ]
    },
    {
     "data": {
      "text/plain": [
       "<tensorflow.python.keras.callbacks.History at 0x201a5969d48>"
      ]
     },
     "execution_count": 30,
     "metadata": {},
     "output_type": "execute_result"
    }
   ],
   "source": [
    "model.fit(x_train, y_train, batch_size=200, epochs=20)"
   ]
  },
  {
   "cell_type": "code",
   "execution_count": 31,
   "metadata": {},
   "outputs": [
    {
     "name": "stdout",
     "output_type": "stream",
     "text": [
      "Train on 60000 samples\n",
      "Epoch 1/20\n",
      "60000/60000 [==============================] - 19s 316us/sample - loss: 0.0233 - accuracy: 0.8446\n",
      "Epoch 2/20\n",
      "60000/60000 [==============================] - 18s 296us/sample - loss: 0.0229 - accuracy: 0.8470\n",
      "Epoch 3/20\n",
      "60000/60000 [==============================] - 18s 301us/sample - loss: 0.0226 - accuracy: 0.8487\n",
      "Epoch 4/20\n",
      "60000/60000 [==============================] - 18s 298us/sample - loss: 0.0223 - accuracy: 0.8515\n",
      "Epoch 5/20\n",
      "60000/60000 [==============================] - 18s 308us/sample - loss: 0.0220 - accuracy: 0.8531\n",
      "Epoch 6/20\n",
      "60000/60000 [==============================] - 18s 298us/sample - loss: 0.0218 - accuracy: 0.8539\n",
      "Epoch 7/20\n",
      "60000/60000 [==============================] - 17s 292us/sample - loss: 0.0216 - accuracy: 0.8562\n",
      "Epoch 8/20\n",
      "60000/60000 [==============================] - 18s 304us/sample - loss: 0.0213 - accuracy: 0.8582\n",
      "Epoch 9/20\n",
      "60000/60000 [==============================] - 18s 305us/sample - loss: 0.0211 - accuracy: 0.8581\n",
      "Epoch 10/20\n",
      "60000/60000 [==============================] - 18s 303us/sample - loss: 0.0210 - accuracy: 0.8600\n",
      "Epoch 11/20\n",
      "60000/60000 [==============================] - 18s 295us/sample - loss: 0.0207 - accuracy: 0.8615\n",
      "Epoch 12/20\n",
      "60000/60000 [==============================] - 18s 305us/sample - loss: 0.0206 - accuracy: 0.8621\n",
      "Epoch 13/20\n",
      "60000/60000 [==============================] - 18s 295us/sample - loss: 0.0204 - accuracy: 0.8637\n",
      "Epoch 14/20\n",
      "60000/60000 [==============================] - 18s 299us/sample - loss: 0.0202 - accuracy: 0.8644\n",
      "Epoch 15/20\n",
      "60000/60000 [==============================] - 18s 302us/sample - loss: 0.0201 - accuracy: 0.8649\n",
      "Epoch 16/20\n",
      "60000/60000 [==============================] - 18s 294us/sample - loss: 0.0200 - accuracy: 0.8666\n",
      "Epoch 17/20\n",
      "60000/60000 [==============================] - 18s 305us/sample - loss: 0.0198 - accuracy: 0.8670\n",
      "Epoch 18/20\n",
      "60000/60000 [==============================] - 17s 290us/sample - loss: 0.0197 - accuracy: 0.8677\n",
      "Epoch 19/20\n",
      "60000/60000 [==============================] - 18s 299us/sample - loss: 0.0196 - accuracy: 0.8695\n",
      "Epoch 20/20\n",
      "60000/60000 [==============================] - 18s 301us/sample - loss: 0.0194 - accuracy: 0.8701\n"
     ]
    },
    {
     "data": {
      "text/plain": [
       "<tensorflow.python.keras.callbacks.History at 0x201a59bac88>"
      ]
     },
     "execution_count": 31,
     "metadata": {},
     "output_type": "execute_result"
    }
   ],
   "source": [
    "model.fit(x_train, y_train, batch_size=25, epochs=20)"
   ]
  },
  {
   "cell_type": "markdown",
   "metadata": {},
   "source": [
    "## 7.訓練成果"
   ]
  },
  {
   "cell_type": "code",
   "execution_count": 32,
   "metadata": {},
   "outputs": [],
   "source": [
    "result = model.predict_classes(x_test)"
   ]
  },
  {
   "cell_type": "code",
   "execution_count": 36,
   "metadata": {},
   "outputs": [
    {
     "name": "stdout",
     "output_type": "stream",
     "text": [
      "神經網路預測是: Sneaker\n"
     ]
    },
    {
     "data": {
      "text/plain": [
       "<matplotlib.image.AxesImage at 0x201a5c54a48>"
      ]
     },
     "execution_count": 36,
     "metadata": {},
     "output_type": "execute_result"
    },
    {
     "data": {
      "image/png": "[encoded data removed]",
      "text/plain": [
       "<Figure size 432x288 with 1 Axes>"
      ]
     },
     "metadata": {
      "needs_background": "light"
     },
     "output_type": "display_data"
    }
   ],
   "source": [
    "n = 6666\n",
    "\n",
    "print('神經網路預測是:', class_names[result[n]])\n",
    "plt.imshow(x_test[n].reshape(28,28), cmap='Greys')"
   ]
  },
  {
   "cell_type": "code",
   "execution_count": 43,
   "metadata": {},
   "outputs": [],
   "source": [
    "import random"
   ]
  },
  {
   "cell_type": "code",
   "execution_count": 46,
   "metadata": {},
   "outputs": [
    {
     "name": "stdout",
     "output_type": "stream",
     "text": [
      "神經網路預測是: Sneaker\n"
     ]
    },
    {
     "data": {
      "text/plain": [
       "<matplotlib.image.AxesImage at 0x201a5f94488>"
      ]
     },
     "execution_count": 46,
     "metadata": {},
     "output_type": "execute_result"
    },
    {
     "data": {
      "image/png": "[encoded data removed]",
      "text/plain": [
       "<Figure size 432x288 with 1 Axes>"
      ]
     },
     "metadata": {
      "needs_background": "light"
     },
     "output_type": "display_data"
    }
   ],
   "source": [
    "i=random.randint(0,9999)\n",
    "print('神經網路預測是:', class_names[result[i]])\n",
    "plt.imshow(x_test[i].reshape(28,28), cmap='Greys')"
   ]
  },
  {
   "cell_type": "code",
   "execution_count": null,
   "metadata": {},
   "outputs": [],
   "source": []
  }
 ],
 "metadata": {
  "kernelspec": {
   "display_name": "Python 3",
   "language": "python",
   "name": "python3"
  },
  "language_info": {
   "codemirror_mode": {
    "name": "ipython",
    "version": 3
   },
   "file_extension": ".py",
   "mimetype": "text/x-python",
   "name": "python",
   "nbconvert_exporter": "python",
   "pygments_lexer": "ipython3",
   "version": "3.7.4"
  }
 },
 "nbformat": 4,
 "nbformat_minor": 2
}

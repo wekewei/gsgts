{
 "cells": [
  {
   "cell_type": "code",
   "execution_count": 1,
   "metadata": {},
   "outputs": [],
   "source": [
    "import numpy as np"
   ]
  },
  {
   "cell_type": "code",
   "execution_count": 27,
   "metadata": {},
   "outputs": [],
   "source": [
    "def BMIcal(身高,體重,理想的BMI):\n",
    "    身高=float(身高)/100\n",
    "    體重=float(體重)\n",
    "    理想的BMI=float(理想的BMI)\n",
    "    bmi=體重/身高**2+理想的BMI*0\n",
    "    print(\"你的BMI={:.2f}\".format(bmi))  \n",
    "    if bmi>理想的BMI:\n",
    "        x=體重-理想的BMI*身高*身高\n",
    "        print('你太胖了，該減 %f'%(x)+' 公斤了')\n",
    "    elif bmi<理想的BMI:\n",
    "        y=理想的BMI*身高*身高-體重\n",
    "        print('你過瘦了，再吃%f'(y)+'公斤')\n",
    "    else:\n",
    "        print(\"完美\")"
   ]
  },
  {
   "cell_type": "code",
   "execution_count": 28,
   "metadata": {},
   "outputs": [
    {
     "data": {
      "application/vnd.jupyter.widget-view+json": {
       "model_id": "fb149507f9c64c1f863fe611b4469856",
       "version_major": 2,
       "version_minor": 0
      },
      "text/plain": [
       "interactive(children=(Text(value='請輸入你的身高', description='身高'), Text(value='請輸入你的體重', description='體重'), Text(v…"
      ]
     },
     "metadata": {},
     "output_type": "display_data"
    },
    {
     "data": {
      "text/plain": [
       "<function __main__.BMIcal(身高, 體重, 理想的BMI)>"
      ]
     },
     "execution_count": 28,
     "metadata": {},
     "output_type": "execute_result"
    }
   ],
   "source": [
    "from ipywidgets import interact_manual\n",
    "interact_manual(BMIcal,身高=\"請輸入你的身高\",體重=\"請輸入你的體重\",理想的BMI=\"理想的BMI\")"
   ]
  },
  {
   "cell_type": "code",
   "execution_count": null,
   "metadata": {},
   "outputs": [],
   "source": []
  }
 ],
 "metadata": {
  "kernelspec": {
   "display_name": "Python 3",
   "language": "python",
   "name": "python3"
  },
  "language_info": {
   "codemirror_mode": {
    "name": "ipython",
    "version": 3
   },
   "file_extension": ".py",
   "mimetype": "text/x-python",
   "name": "python",
   "nbconvert_exporter": "python",
   "pygments_lexer": "ipython3",
   "version": "3.7.4"
  }
 },
 "nbformat": 4,
 "nbformat_minor": 2
}

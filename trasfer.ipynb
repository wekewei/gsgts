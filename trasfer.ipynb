{
 "cells": [
  {
   "cell_type": "markdown",
   "metadata": {},
   "source": [
    "# 載入套件及資料集"
   ]
  },
  {
   "cell_type": "code",
   "execution_count": 2,
   "metadata": {},
   "outputs": [],
   "source": [
    "# Import some useful packages\n",
    "import matplotlib.pyplot as plt\n",
    "import numpy as np\n",
    "\n",
    "# Layers for FNN\n",
    "from tensorflow.keras.models import Sequential\n",
    "from tensorflow.keras.layers import Dense\n",
    "from tensorflow.keras.layers import Flatten\n",
    "\n",
    "# Layers for CNN\n",
    "from tensorflow.keras.layers import Conv2D, MaxPool2D, GlobalAveragePooling2D\n",
    "\n",
    "from tensorflow.keras.optimizers import SGD, Adam\n",
    "\n",
    "# For data preprocessing\n",
    "from tensorflow.keras import datasets\n",
    "from tensorflow.keras.utils import to_categorical"
   ]
  },
  {
   "cell_type": "code",
   "execution_count": 3,
   "metadata": {},
   "outputs": [],
   "source": [
    "from tensorflow.keras.datasets import mnist"
   ]
  },
  {
   "cell_type": "markdown",
   "metadata": {},
   "source": [
    "# 資料前處理"
   ]
  },
  {
   "cell_type": "code",
   "execution_count": 33,
   "metadata": {},
   "outputs": [],
   "source": [
    "from tensorflow.keras.datasets import mnist\n",
    "(x_train, y_train), (x_test, y_test) = mnist.load_data()\n",
    "\n",
    "x_train = x_train.reshape(60000, 28, 28, 1) / 255\n",
    "x_test = x_test.reshape(10000, 28, 28, 1) / 255\n",
    "\n",
    "y_train = to_categorical(y_train, 10)\n",
    "y_test = to_categorical(y_test, 10)"
   ]
  },
  {
   "cell_type": "markdown",
   "metadata": {},
   "source": [
    "# 建立神經網路"
   ]
  },
  {
   "cell_type": "code",
   "execution_count": 20,
   "metadata": {},
   "outputs": [],
   "source": [
    "CNN_layers = [Conv2D(16, (3, 3), padding = 'same', input_shape = (28, 28, 1), activation = 'selu'),\n",
    "             MaxPool2D(pool_size = (2, 2)),\n",
    "             Conv2D(64, (3, 3), padding = 'same', activation = 'selu'),\n",
    "             MaxPool2D(pool_size = (2, 2)),\n",
    "             Conv2D(256, (3, 3), padding = 'same', activation = 'selu'),\n",
    "             MaxPool2D(pool_size = (2, 2))]\n",
    "\n",
    "FC_layers = [Flatten(),\n",
    "            Dense(80, activation = 'selu'),\n",
    "            Dense(10, activation = 'softmax')]"
   ]
  },
  {
   "cell_type": "markdown",
   "metadata": {},
   "source": [
    "# 觀賞結論"
   ]
  },
  {
   "cell_type": "code",
   "execution_count": 21,
   "metadata": {},
   "outputs": [
    {
     "name": "stdout",
     "output_type": "stream",
     "text": [
      "_________________________________________________________________\n",
      "Layer (type)                 Output Shape              Param #   \n",
      "=================================================================\n",
      "conv2d_3 (Conv2D)            (None, 28, 28, 16)        160       \n",
      "_________________________________________________________________\n",
      "max_pooling2d_3 (MaxPooling2 (None, 14, 14, 16)        0         \n",
      "_________________________________________________________________\n",
      "conv2d_4 (Conv2D)            (None, 14, 14, 64)        9280      \n",
      "_________________________________________________________________\n",
      "max_pooling2d_4 (MaxPooling2 (None, 7, 7, 64)          0         \n",
      "_________________________________________________________________\n",
      "conv2d_5 (Conv2D)            (None, 7, 7, 256)         147712    \n",
      "_________________________________________________________________\n",
      "max_pooling2d_5 (MaxPooling2 (None, 3, 3, 256)         0         \n",
      "_________________________________________________________________\n",
      "flatten_1 (Flatten)          (None, 2304)              0         \n",
      "_________________________________________________________________\n",
      "dense_2 (Dense)              (None, 80)                184400    \n",
      "_________________________________________________________________\n",
      "dense_3 (Dense)              (None, 10)                810       \n",
      "=================================================================\n",
      "Total params: 342,362\n",
      "Trainable params: 342,362\n",
      "Non-trainable params: 0\n",
      "_________________________________________________________________\n"
     ]
    }
   ],
   "source": [
    "model1 = Sequential(CNN_layers + FC_layers)\n",
    "model1.summary()"
   ]
  },
  {
   "cell_type": "markdown",
   "metadata": {},
   "source": [
    "# 訓練model1"
   ]
  },
  {
   "cell_type": "code",
   "execution_count": 23,
   "metadata": {},
   "outputs": [
    {
     "name": "stdout",
     "output_type": "stream",
     "text": [
      "Epoch 1/8\n",
      "60000/60000 [==============================] - 11s 181us/sample - loss: 0.0093 - acc: 0.9457\n",
      "Epoch 2/8\n",
      "60000/60000 [==============================] - ETA: 0s - loss: 0.0085 - acc: 0.950 - 11s 180us/sample - loss: 0.0085 - acc: 0.9501\n",
      "Epoch 3/8\n",
      "60000/60000 [==============================] - 11s 179us/sample - loss: 0.0078 - acc: 0.9541\n",
      "Epoch 4/8\n",
      "60000/60000 [==============================] - 11s 185us/sample - loss: 0.0073 - acc: 0.9569\n",
      "Epoch 5/8\n",
      "60000/60000 [==============================] - 11s 178us/sample - loss: 0.0068 - acc: 0.9601 - loss: 0.0068 - acc: 0.96\n",
      "Epoch 6/8\n",
      "60000/60000 [==============================] - 11s 188us/sample - loss: 0.0064 - acc: 0.9625\n",
      "Epoch 7/8\n",
      "60000/60000 [==============================] - 11s 188us/sample - loss: 0.0061 - acc: 0.9645\n",
      "Epoch 8/8\n",
      "60000/60000 [==============================] - 11s 184us/sample - loss: 0.0058 - acc: 0.9662\n"
     ]
    },
    {
     "data": {
      "text/plain": [
       "<tensorflow.python.keras.callbacks.History at 0x1ba2d8a7f98>"
      ]
     },
     "execution_count": 23,
     "metadata": {},
     "output_type": "execute_result"
    }
   ],
   "source": [
    "model1.compile(loss = 'mse', optimizer = SGD(lr = 0.02), metrics = ['accuracy'])\n",
    "model1.fit(x_train,y_train,batch_size=80,epochs=8)"
   ]
  },
  {
   "cell_type": "code",
   "execution_count": 24,
   "metadata": {},
   "outputs": [
    {
     "name": "stdout",
     "output_type": "stream",
     "text": [
      "60000/60000 [==============================] - 5s 89us/sample - loss: 0.0056 - acc: 0.9676\n"
     ]
    }
   ],
   "source": [
    "train_score = model1.evaluate(x_train, y_train)"
   ]
  },
  {
   "cell_type": "markdown",
   "metadata": {},
   "source": [
    "# 讀入並整理第二種資料"
   ]
  },
  {
   "cell_type": "code",
   "execution_count": 28,
   "metadata": {},
   "outputs": [],
   "source": [
    "from tensorflow.keras.datasets import fashion_mnist\n",
    "(x1_train, y1_train), (x1_test, y1_test) = fashion_mnist.load_data()\n",
    "class_names = ['T-shirt/top', 'Trouser', 'Pullover', 'Dress', 'Coat',\n",
    "               'Sandal', 'Shirt', 'Sneaker', 'Bag', 'Ankle boot']"
   ]
  },
  {
   "cell_type": "code",
   "execution_count": 30,
   "metadata": {},
   "outputs": [],
   "source": [
    "x1_train=x1_train/255\n",
    "x1_test=x1_test/255\n",
    "x1_train=x1_train.reshape(60000,28,28,1)\n",
    "x1_test=x1_test.reshape(10000,28,28,1)\n",
    "\n",
    "y1_train=to_categorical(y1_train,10)\n",
    "y1_test=to_categorical(y1_train,10)"
   ]
  },
  {
   "cell_type": "markdown",
   "metadata": {},
   "source": [
    "# 建立新的fc層"
   ]
  },
  {
   "cell_type": "code",
   "execution_count": 26,
   "metadata": {},
   "outputs": [],
   "source": [
    "FC_layers2 = [Flatten(),\n",
    "            Dense(100, activation = 'selu'),\n",
    "            Dense(50, activation = 'selu'),\n",
    "            Dense(10, activation = 'softmax')]\n",
    "\n",
    "model2 = Sequential(CNN_layers + FC_layers2)"
   ]
  },
  {
   "cell_type": "markdown",
   "metadata": {},
   "source": [
    "# 原本的cnn層不訓練(frozen)"
   ]
  },
  {
   "cell_type": "code",
   "execution_count": 27,
   "metadata": {},
   "outputs": [
    {
     "name": "stdout",
     "output_type": "stream",
     "text": [
      "_________________________________________________________________\n",
      "Layer (type)                 Output Shape              Param #   \n",
      "=================================================================\n",
      "conv2d_3 (Conv2D)            (None, 28, 28, 16)        160       \n",
      "_________________________________________________________________\n",
      "max_pooling2d_3 (MaxPooling2 (None, 14, 14, 16)        0         \n",
      "_________________________________________________________________\n",
      "conv2d_4 (Conv2D)            (None, 14, 14, 64)        9280      \n",
      "_________________________________________________________________\n",
      "max_pooling2d_4 (MaxPooling2 (None, 7, 7, 64)          0         \n",
      "_________________________________________________________________\n",
      "conv2d_5 (Conv2D)            (None, 7, 7, 256)         147712    \n",
      "_________________________________________________________________\n",
      "max_pooling2d_5 (MaxPooling2 (None, 3, 3, 256)         0         \n",
      "_________________________________________________________________\n",
      "flatten_2 (Flatten)          (None, 2304)              0         \n",
      "_________________________________________________________________\n",
      "dense_4 (Dense)              (None, 100)               230500    \n",
      "_________________________________________________________________\n",
      "dense_5 (Dense)              (None, 50)                5050      \n",
      "_________________________________________________________________\n",
      "dense_6 (Dense)              (None, 10)                510       \n",
      "=================================================================\n",
      "Total params: 393,212\n",
      "Trainable params: 236,060\n",
      "Non-trainable params: 157,152\n",
      "_________________________________________________________________\n"
     ]
    }
   ],
   "source": [
    "for layer in CNN_layers:\n",
    "    layer.trainable = False\n",
    "model2.summary()"
   ]
  },
  {
   "cell_type": "code",
   "execution_count": 32,
   "metadata": {},
   "outputs": [
    {
     "name": "stdout",
     "output_type": "stream",
     "text": [
      "Epoch 1/8\n",
      "60000/60000 [==============================] - 5s 90us/sample - loss: 0.0241 - acc: 0.8356\n",
      "Epoch 2/8\n",
      "60000/60000 [==============================] - 5s 91us/sample - loss: 0.0237 - acc: 0.8378\n",
      "Epoch 3/8\n",
      "60000/60000 [==============================] - 4s 74us/sample - loss: 0.0233 - acc: 0.8420\n",
      "Epoch 4/8\n",
      "60000/60000 [==============================] - 4s 73us/sample - loss: 0.0230 - acc: 0.8432\n",
      "Epoch 5/8\n",
      "60000/60000 [==============================] - 5s 80us/sample - loss: 0.0226 - acc: 0.8456\n",
      "Epoch 6/8\n",
      "60000/60000 [==============================] - 5s 91us/sample - loss: 0.0224 - acc: 0.8474\n",
      "Epoch 7/8\n",
      "60000/60000 [==============================] - 4s 71us/sample - loss: 0.0221 - acc: 0.8489\n",
      "Epoch 8/8\n",
      "60000/60000 [==============================] - ETA: 0s - loss: 0.0218 - acc: 0.851 - 4s 69us/sample - loss: 0.0218 - acc: 0.8510\n"
     ]
    },
    {
     "data": {
      "text/plain": [
       "<tensorflow.python.keras.callbacks.History at 0x1b9625e9a90>"
      ]
     },
     "execution_count": 32,
     "metadata": {},
     "output_type": "execute_result"
    }
   ],
   "source": [
    "model2.compile(loss = 'mse', optimizer = SGD(lr = 0.02), metrics = ['accuracy'])\n",
    "model2.fit(x1_train, y1_train, batch_size =80 , epochs = 8)"
   ]
  },
  {
   "cell_type": "code",
   "execution_count": null,
   "metadata": {},
   "outputs": [],
   "source": []
  }
 ],
 "metadata": {
  "kernelspec": {
   "display_name": "Python 3",
   "language": "python",
   "name": "python3"
  },
  "language_info": {
   "codemirror_mode": {
    "name": "ipython",
    "version": 3
   },
   "file_extension": ".py",
   "mimetype": "text/x-python",
   "name": "python",
   "nbconvert_exporter": "python",
   "pygments_lexer": "ipython3",
   "version": "3.6.8"
  }
 },
 "nbformat": 4,
 "nbformat_minor": 4
}

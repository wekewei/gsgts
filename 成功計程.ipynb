{
 "cells": [
  {
   "cell_type": "code",
   "execution_count": 1,
   "metadata": {},
   "outputs": [],
   "source": [
    "import requests\n",
    "import json\n",
    "import csv\n",
    "import time, datetime,os\n",
    "from bs4 import BeautifulSoup as bs"
   ]
  },
  {
   "cell_type": "code",
   "execution_count": 2,
   "metadata": {},
   "outputs": [
    {
     "data": {
      "text/plain": [
       "19"
      ]
     },
     "execution_count": 2,
     "metadata": {},
     "output_type": "execute_result"
    }
   ],
   "source": [
    "dt = datetime.datetime.now()\n",
    "dt.year\n",
    "dt.month\n",
    "dt.day\n"
   ]
  },
  {
   "cell_type": "code",
   "execution_count": 3,
   "metadata": {},
   "outputs": [],
   "source": [
    "now = datetime.datetime.now()\n",
    "year_list = range (2020,2021) #since 2007 to this year\n",
    "month_list = range(1,2)# 12 months\n",
    "day_list=range(1,2)"
   ]
  },
  {
   "cell_type": "code",
   "execution_count": 4,
   "metadata": {},
   "outputs": [],
   "source": [
    "def get_webmsg (year, month, day):\n",
    "    date = str (year) + \"{0:0=2d}\".format(month) +\"{0:0=2d}\".format(day) ## format is yyyymmdd\n",
    "    url_twse = 'https://www.twse.com.tw/fund/MI_QFIIS?response=json&date='+date+'&selectType=ALLBUT0999&'\n",
    "    res =requests.post(url_twse,)\n",
    "    soup = bs(res.text , 'html.parser')\n",
    "    smt = json.loads(soup.text)     #convert data into json\n",
    "    return smt"
   ]
  },
  {
   "cell_type": "code",
   "execution_count": 6,
   "metadata": {},
   "outputs": [],
   "source": [
    "def write_csv(directory,filename,smt) :\n",
    "    writefile = directory + filename               #set output file name\n",
    "    outputFile = open(writefile,'w',newline='')\n",
    "    outputWriter = csv.writer(outputFile)\n",
    "    head = ''.join(smt['title'].split())\n",
    "    a = [head,\"\"]\n",
    "    outputWriter.writerow(a)\n",
    "    outputWriter.writerow(smt['fields'])\n",
    "    for data in (smt['data']):\n",
    "        outputWriter.writerow(data)\n",
    "\n",
    "    outputFile.close()"
   ]
  },
  {
   "cell_type": "code",
   "execution_count": 7,
   "metadata": {},
   "outputs": [],
   "source": [
    "def makedirs (year, month, day):\n",
    "    yy      = str(year)\n",
    "    mm      = str(month)\n",
    "    dd      = str(day)\n",
    "    directory = 'D:/計程期末'+'/'+ yy+'/'+mm+'/'\n",
    "    if not os.path.isdir(directory):\n",
    "        os.makedirs (directory)  # os.makedirs able to create multi folders\n"
   ]
  },
  {
   "cell_type": "code",
   "execution_count": 8,
   "metadata": {},
   "outputs": [],
   "source": [
    "\n",
    "for year in year_list:\n",
    "    for month in month_list:\n",
    "        for day in day_list:\n",
    "            if (dt.year == year and month > dt.month and day>dt.day) :break  # break loop while month over current month\n",
    "            yy  = str(year)\n",
    "            mm  = month\n",
    "            dd  = day\n",
    "            directory = 'D:/計程期末'+'/'+ yy+'/'+str(mm)+'/'     #setting directory\n",
    "            filename = str(yy)+str(\"%02d\"%mm)+str(\"%02d\"%dd)+'.csv'          #setting file name\n",
    "            smt = get_webmsg(year ,month,dd)           #put the data into smt \n",
    "            makedirs (year, month,dd)                  #create directory function\n",
    "            write_csv (directory, filename, smt)    # write files into CSV\n",
    "            time.sleep(3)\n",
    "            "
   ]
  },
  {
   "cell_type": "code",
   "execution_count": null,
   "metadata": {},
   "outputs": [],
   "source": []
  },
  {
   "cell_type": "code",
   "execution_count": null,
   "metadata": {},
   "outputs": [],
   "source": []
  }
 ],
 "metadata": {
  "kernelspec": {
   "display_name": "Python 3",
   "language": "python",
   "name": "python3"
  },
  "language_info": {
   "codemirror_mode": {
    "name": "ipython",
    "version": 3
   },
   "file_extension": ".py",
   "mimetype": "text/x-python",
   "name": "python",
   "nbconvert_exporter": "python",
   "pygments_lexer": "ipython3",
   "version": "3.7.6"
  }
 },
 "nbformat": 4,
 "nbformat_minor": 2
}
